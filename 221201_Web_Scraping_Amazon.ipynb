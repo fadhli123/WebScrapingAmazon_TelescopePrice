{
 "cells": [
  {
   "cell_type": "markdown",
   "metadata": {},
   "source": [
    "## AMAZON WEB SCRAPING PROJECT"
   ]
  },
  {
   "cell_type": "markdown",
   "metadata": {},
   "source": [
    "### Libraries"
   ]
  },
  {
   "cell_type": "code",
   "execution_count": 1,
   "metadata": {},
   "outputs": [],
   "source": [
    "from bs4 import BeautifulSoup\n",
    "import pandas as pd\n",
    "import requests\n",
    "import csv\n",
    "import time\n",
    "import datetime\n",
    "import smtplib\n",
    "import os"
   ]
  },
  {
   "cell_type": "markdown",
   "metadata": {},
   "source": [
    "### Connect To Website"
   ]
  },
  {
   "cell_type": "code",
   "execution_count": 2,
   "metadata": {},
   "outputs": [],
   "source": [
    "URL = 'https://www.amazon.com/Celestron-21049-PowerSeeker-127EQ-Telescope/dp/B0007UQNKY/ref=sr_1_1_sspa?crid=3R13VWNX657QN&keywords=telescope%2B12%2Binch&qid=1669913991&sprefix=telescope%2B12%2Binch%2Caps%2C427&sr=8-1-spons&spLa=ZW5jcnlwdGVkUXVhbGlmaWVyPUFCMThTR1hZS1RJVzcmZW5jcnlwdGVkSWQ9QTAyNTYzOTdCRkhPNTNYTVAzWFkmZW5jcnlwdGVkQWRJZD1BMDg2MzAyN0VCQ0ZKU1IxT1ZJVSZ3aWRnZXROYW1lPXNwX2F0ZiZhY3Rpb249Y2xpY2tSZWRpcmVjdCZkb05vdExvZ0NsaWNrPXRydWU&th=1'\n",
    "\n",
    "headers = {\"User-Agent\":\"Mozilla/5.0 (Windows NT 10.0; Win64; x64) AppleWebKit/537.36 (KHTML, like Gecko) Chrome/107.0.0.0 Safari/537.36\",\"Accept-Encoding\":\"gzip, deflate\", \"Accept\":\"text/html,application/xhtml+xml;q=0.9,*/*;q=0.8\", \"DNT\":\"1\", \"Connection\":\"close\",\"Upgrade-Insecure-Requests\":\"1\"}\n",
    "\n",
    "page = requests.get(URL, headers=headers)\n",
    "\n",
    "soup1 = BeautifulSoup(page.content, 'html.parser')\n",
    "\n",
    "soup2 = BeautifulSoup(soup1.prettify(), 'html.parser')\n"
   ]
  },
  {
   "cell_type": "markdown",
   "metadata": {},
   "source": [
    "### Get Specific Data"
   ]
  },
  {
   "cell_type": "code",
   "execution_count": 3,
   "metadata": {},
   "outputs": [
    {
     "name": "stdout",
     "output_type": "stream",
     "text": [
      "Celestron - PowerSeeker 127EQ Telescope - Manual German Equatorial Telescope for Beginners - Compact and Portable - Bonus Astronomy Software Package - 127mm Aperture\n",
      "169.99\n",
      "4.2 out of 5 stars\n",
      "8,388\n"
     ]
    }
   ],
   "source": [
    "# Get Product Name\n",
    "title = soup2.find(id='productTitle').get_text().strip() #Using strip to remove white space\n",
    "print(title)\n",
    "\n",
    "# Get Product Price\n",
    "price = soup2.find(class_='a-offscreen').get_text().strip()[1:] #Slicing string to only get numbers\n",
    "print(price) \n",
    "\n",
    "# Get Product Rating\n",
    "rating = soup2.find(class_='a-icon-alt').get_text().strip()\n",
    "print(rating)\n",
    "\n",
    "# Get Product Total Reviews\n",
    "total_reviews = soup2.find(id='acrCustomerReviewText').get_text().strip()[0:-8] \n",
    "print(total_reviews)"
   ]
  },
  {
   "cell_type": "markdown",
   "metadata": {},
   "source": [
    "### Build Data Frame"
   ]
  },
  {
   "cell_type": "code",
   "execution_count": 4,
   "metadata": {},
   "outputs": [],
   "source": [
    "# today = datetime.date.today()\n",
    "\n",
    "# col_names = ['Date','Product Name', 'Price ($)', 'Rating', 'Total Reviews']\n",
    "# data_frame = pd.DataFrame(columns=[col_names], data=[[today,title,price,rating,total_reviews]])\n",
    "# data_frame"
   ]
  },
  {
   "cell_type": "markdown",
   "metadata": {},
   "source": [
    "### Appending Data Frame"
   ]
  },
  {
   "cell_type": "code",
   "execution_count": 5,
   "metadata": {},
   "outputs": [],
   "source": [
    "#data_frame.loc[len(data_frame)] = [today,title,price,rating,total_reviews]\n",
    "\n",
    "#data_frame\n",
    "\n",
    "#data_frame.drop(data_frame.index[:-1], inplace=True)"
   ]
  },
  {
   "cell_type": "markdown",
   "metadata": {},
   "source": [
    "### Export To CSV"
   ]
  },
  {
   "cell_type": "code",
   "execution_count": 6,
   "metadata": {},
   "outputs": [],
   "source": [
    "#pwd = os.getcwd()\n",
    "\n",
    "#data_frame.to_csv(pwd + '/Data_Output.csv', index=False)"
   ]
  },
  {
   "cell_type": "markdown",
   "metadata": {},
   "source": [
    "### Automation System"
   ]
  },
  {
   "cell_type": "code",
   "execution_count": 7,
   "metadata": {},
   "outputs": [],
   "source": [
    "# Build Function\n",
    "def check_price():\n",
    "    \n",
    "    URL = 'https://www.amazon.com/Celestron-21049-PowerSeeker-127EQ-Telescope/dp/B0007UQNKY/ref=sr_1_1_sspa?crid=3R13VWNX657QN&keywords=telescope%2B12%2Binch&qid=1669913991&sprefix=telescope%2B12%2Binch%2Caps%2C427&sr=8-1-spons&spLa=ZW5jcnlwdGVkUXVhbGlmaWVyPUFCMThTR1hZS1RJVzcmZW5jcnlwdGVkSWQ9QTAyNTYzOTdCRkhPNTNYTVAzWFkmZW5jcnlwdGVkQWRJZD1BMDg2MzAyN0VCQ0ZKU1IxT1ZJVSZ3aWRnZXROYW1lPXNwX2F0ZiZhY3Rpb249Y2xpY2tSZWRpcmVjdCZkb05vdExvZ0NsaWNrPXRydWU&th=1'\n",
    "\n",
    "    headers = {\"User-Agent\":\"Mozilla/5.0 (Windows NT 10.0; Win64; x64) AppleWebKit/537.36 (KHTML, like Gecko) Chrome/107.0.0.0 Safari/537.36\",\"Accept-Encoding\":\"gzip, deflate\", \"Accept\":\"text/html,application/xhtml+xml;q=0.9,*/*;q=0.8\", \"DNT\":\"1\", \"Connection\":\"close\",\"Upgrade-Insecure-Requests\":\"1\"}\n",
    "\n",
    "    page = requests.get(URL, headers=headers)\n",
    "\n",
    "    soup1 = BeautifulSoup(page.content, 'html.parser')\n",
    "\n",
    "    soup2 = BeautifulSoup(soup1.prettify(), 'html.parser')\n",
    "\n",
    "    title = soup2.find(id='productTitle').get_text().strip()\n",
    "\n",
    "    price = soup2.find(class_='a-offscreen').get_text().strip()[1:]\n",
    "\n",
    "    rating = soup2.find(class_='a-icon-alt').get_text().strip()\n",
    "\n",
    "    total_reviews = soup2.find(id='acrCustomerReviewText').get_text().strip()[0:-8]\n",
    "\n",
    "    today = datetime.date.today()\n",
    "\n",
    "    pwd = os.getcwd()\n",
    "\n",
    "    data_frame = pd.read_csv(pwd + '/Data_Output.csv')\n",
    "\n",
    "    data_frame.loc[len(data_frame)] = [today,title,price,rating,total_reviews]\n",
    "\n",
    "    data_frame.to_csv(pwd + '/Data_Output.csv', index=False)\n",
    "\n",
    "    display(data_frame)"
   ]
  },
  {
   "cell_type": "code",
   "execution_count": 8,
   "metadata": {},
   "outputs": [
    {
     "data": {
      "text/html": [
       "<div>\n",
       "<style scoped>\n",
       "    .dataframe tbody tr th:only-of-type {\n",
       "        vertical-align: middle;\n",
       "    }\n",
       "\n",
       "    .dataframe tbody tr th {\n",
       "        vertical-align: top;\n",
       "    }\n",
       "\n",
       "    .dataframe thead th {\n",
       "        text-align: right;\n",
       "    }\n",
       "</style>\n",
       "<table border=\"1\" class=\"dataframe\">\n",
       "  <thead>\n",
       "    <tr style=\"text-align: right;\">\n",
       "      <th></th>\n",
       "      <th>Date</th>\n",
       "      <th>Product Name</th>\n",
       "      <th>Price ($)</th>\n",
       "      <th>Rating</th>\n",
       "      <th>Total Reviews</th>\n",
       "    </tr>\n",
       "  </thead>\n",
       "  <tbody>\n",
       "    <tr>\n",
       "      <th>0</th>\n",
       "      <td>12/2/2022</td>\n",
       "      <td>Celestron - PowerSeeker 127EQ Telescope - Manu...</td>\n",
       "      <td>169.99</td>\n",
       "      <td>4.2 out of 5 stars</td>\n",
       "      <td>8,376</td>\n",
       "    </tr>\n",
       "    <tr>\n",
       "      <th>1</th>\n",
       "      <td>2022-12-02</td>\n",
       "      <td>Celestron - PowerSeeker 127EQ Telescope - Manu...</td>\n",
       "      <td>169.99</td>\n",
       "      <td>4.2 out of 5 stars</td>\n",
       "      <td>8,375</td>\n",
       "    </tr>\n",
       "    <tr>\n",
       "      <th>2</th>\n",
       "      <td>2022-12-03</td>\n",
       "      <td>Celestron - PowerSeeker 127EQ Telescope - Manu...</td>\n",
       "      <td>169.99</td>\n",
       "      <td>4.2 out of 5 stars</td>\n",
       "      <td>8,377</td>\n",
       "    </tr>\n",
       "    <tr>\n",
       "      <th>3</th>\n",
       "      <td>2022-12-04</td>\n",
       "      <td>Celestron - PowerSeeker 127EQ Telescope - Manu...</td>\n",
       "      <td>169.99</td>\n",
       "      <td>4.2 out of 5 stars</td>\n",
       "      <td>8,382</td>\n",
       "    </tr>\n",
       "    <tr>\n",
       "      <th>4</th>\n",
       "      <td>2022-12-05</td>\n",
       "      <td>Celestron - PowerSeeker 127EQ Telescope - Manu...</td>\n",
       "      <td>169.99</td>\n",
       "      <td>4.2 out of 5 stars</td>\n",
       "      <td>8,388</td>\n",
       "    </tr>\n",
       "  </tbody>\n",
       "</table>\n",
       "</div>"
      ],
      "text/plain": [
       "         Date                                       Product Name Price ($)  \\\n",
       "0   12/2/2022  Celestron - PowerSeeker 127EQ Telescope - Manu...    169.99   \n",
       "1  2022-12-02  Celestron - PowerSeeker 127EQ Telescope - Manu...    169.99   \n",
       "2  2022-12-03  Celestron - PowerSeeker 127EQ Telescope - Manu...    169.99   \n",
       "3  2022-12-04  Celestron - PowerSeeker 127EQ Telescope - Manu...    169.99   \n",
       "4  2022-12-05  Celestron - PowerSeeker 127EQ Telescope - Manu...    169.99   \n",
       "\n",
       "               Rating Total Reviews  \n",
       "0  4.2 out of 5 stars         8,376  \n",
       "1  4.2 out of 5 stars         8,375  \n",
       "2  4.2 out of 5 stars         8,377  \n",
       "3  4.2 out of 5 stars         8,382  \n",
       "4  4.2 out of 5 stars         8,388  "
      ]
     },
     "metadata": {},
     "output_type": "display_data"
    }
   ],
   "source": [
    "#Set Automation Time to Function\n",
    "while(True):\n",
    "    check_price()\n",
    "    time.sleep(86400)"
   ]
  }
 ],
 "metadata": {
  "kernelspec": {
   "display_name": "Python 3.9.13 ('base')",
   "language": "python",
   "name": "python3"
  },
  "language_info": {
   "codemirror_mode": {
    "name": "ipython",
    "version": 3
   },
   "file_extension": ".py",
   "mimetype": "text/x-python",
   "name": "python",
   "nbconvert_exporter": "python",
   "pygments_lexer": "ipython3",
   "version": "3.9.13"
  },
  "orig_nbformat": 4,
  "vscode": {
   "interpreter": {
    "hash": "9b8b1d3367676309ff5682c5b618e639f7327ddd21bca752b58323ca19d18d57"
   }
  }
 },
 "nbformat": 4,
 "nbformat_minor": 2
}
